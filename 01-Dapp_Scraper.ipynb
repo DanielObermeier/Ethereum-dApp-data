{
 "cells": [
  {
   "cell_type": "markdown",
   "metadata": {},
   "source": [
    "# Dapp Scraper\n",
    "The purpose of this file is to retrieve all Ethereum dApps from state of the dApps and store them in a DB"
   ]
  },
  {
   "cell_type": "markdown",
   "metadata": {},
   "source": [
    "### Table of content\n",
    "1. This scraper retrieves all Ethereum Dapps listed on www.stateofthedapps.com.\n",
    "To do so it proceeds in the following steps:\n",
    "-   initiates a webdriver\n",
    "-   loops through the list of dApps and retrievs high-level info (including link to subpage)\n",
    "-   loops through all subpages and retrieves detailed data \n",
    "\n",
    "2. In the second section, the scraper inserts the data into the Postgres SQL database\n"
   ]
  },
  {
   "cell_type": "markdown",
   "metadata": {},
   "source": []
  },
  {
   "cell_type": "markdown",
   "metadata": {},
   "source": [
    "## 1. Scraper functions"
   ]
  },
  {
   "cell_type": "code",
   "execution_count": 1,
   "metadata": {},
   "outputs": [],
   "source": [
    "# import libraries \n",
    "from selenium import webdriver\n",
    "from selenium.webdriver.common.keys import Keys\n",
    "from selenium.webdriver.chrome.options import Options\n",
    "import os\n",
    "import os.path\n",
    "import time\n"
   ]
  },
  {
   "cell_type": "code",
   "execution_count": 6,
   "metadata": {},
   "outputs": [],
   "source": [
    "# Initiating the webdriver (normally)\n",
    "def init_webdriver():\n",
    "    \"\"\" this function initiates the webdriver using the chromedriver.exe located in the directory\"\"\"\n",
    "\n",
    "    from selenium import webdriver\n",
    "    from selenium.webdriver.common.keys import Keys\n",
    "    from selenium.webdriver.chrome.options import Options\n",
    "    driver = webdriver.Chrome(\"link to webdriver\") #insert link to webdriver\n",
    "    driver.maximize_window()\n",
    "    #driver.set_window_size(2560, 1440)\n",
    "\n",
    "    return driver\n",
    "\n",
    "def quit_webdriver(driver):\n",
    "    \"\"\" this function quits the webdriver session\"\"\"\n",
    "    driver.quit()"
   ]
  },
  {
   "cell_type": "code",
   "execution_count": 9,
   "metadata": {},
   "outputs": [],
   "source": [
    "# init webdriver\n",
    "driver = init_webdriver()"
   ]
  },
  {
   "cell_type": "code",
   "execution_count": 8,
   "metadata": {},
   "outputs": [],
   "source": [
    "# close webdriver\n",
    "quit_webdriver(driver)"
   ]
  },
  {
   "cell_type": "markdown",
   "metadata": {},
   "source": [
    "## Function 1 - loop through list of Ethereum Dapps\n",
    "\n",
    "- navigate to Ethereum Dapp list \n",
    "- click on \"view more rankings\"\n",
    "- loop through first 50 dApps \n",
    "- click next button\n",
    "- end loop if clicking next button is not possible anymore -> print retrieving list of dApps is complet"
   ]
  },
  {
   "cell_type": "code",
   "execution_count": 12,
   "metadata": {},
   "outputs": [],
   "source": [
    "# function 1 - dapp meta data\n",
    "\n",
    "def get_dapp_meta_data(driver):\n",
    "\n",
    "    from selenium import webdriver\n",
    "    \"\"\"\n",
    "    - this function navigates to the state of the dapp webpage \n",
    "    - on the webpage it collects all names and links of all dapps on the ethereum platform\n",
    "    - it takes a webdriver object as argument\n",
    "\n",
    "    - it returns a list of dictionaries containting:\n",
    "        - name of the dapp\n",
    "        - a short teaser\n",
    "        - the platform\n",
    "        - the category of the dapp\n",
    "        - the link to the subpage\n",
    "\n",
    "    \"\"\"\n",
    "\n",
    "    # go to first page\n",
    "    try:\n",
    "        driver.get(\"https://www.stateofthedapps.com/rankings/platform/ethereum?page=1\")\n",
    "    except:\n",
    "        print(\"Driver could not access first page\")\n",
    "\n",
    "    # find number of last page\n",
    "    try:\n",
    "        last_page = driver.find_element_by_xpath('//*[@id=\"__layout\"]/div/div/main/div[2]/div[2]/div/div/div[2]/div[2]/button[5]').text\n",
    "    except:\n",
    "        print(\"Driver could not find last page\")\n",
    "\n",
    "    # init counter\n",
    "    i = 1\n",
    "\n",
    "    # init list that stores all dapp data\n",
    "    dapp_list = []\n",
    "\n",
    "    while i <= int(last_page):\n",
    "        driver.get(\"https://www.stateofthedapps.com/rankings/platform/ethereum?page=\"+ str(i))\n",
    "        print(\"collecting page: \" + str(i))\n",
    "        \n",
    "\n",
    "        # finde table that contains all dapps\n",
    "        try:\n",
    "            table_body = driver.find_element_by_class_name(\"table-body\")\n",
    "        except:\n",
    "            print(\"Driver could not find table-body\")\n",
    "\n",
    "        # find all rows of the table\n",
    "        try:\n",
    "            rows = table_body.find_elements_by_class_name(\"table-row\")\n",
    "        except:\n",
    "            print(\"Driver could not find rows in table-body\")\n",
    "\n",
    "        # loops through all rows of the table and store the data in a dict. Appends the dict to a list\n",
    "        for row in rows:\n",
    "            dapp_dict = {}\n",
    "\n",
    "            try:\n",
    "                dapp_dict[\"d_name\"] = row.find_element_by_class_name(\"name\").text\n",
    "            except:\n",
    "                dapp_dict[\"d_name\"] = \"NaN\"\n",
    "            try:\n",
    "                dapp_dict[\"d_teaser\"] = row.find_element_by_class_name(\"teaser\").text\n",
    "            except:\n",
    "                dapp_dict[\"d_teaser\"] =\"NaN\"\n",
    "            try:\n",
    "                dapp_dict[\"d_platform\"] = row.find_element_by_class_name(\"RankingTablePlatform\").text\n",
    "            except:\n",
    "                dapp_dict[\"d_platform\"] = \"NaN\"\n",
    "            try:\n",
    "                dapp_dict[\"d_cat\"] = row.find_element_by_class_name(\"RankingTableCategory\").text\n",
    "            except:\n",
    "                dapp_dict[\"d_cat\"] = \"NaN\"\n",
    "            try:\n",
    "                dapp_dict[\"d_link\"] = row.find_element_by_tag_name('a').get_attribute(\"href\")\n",
    "            except:\n",
    "                dapp_dict[\"d_link\"] = \"NaN\"\n",
    "\n",
    "            dapp_list.append(dapp_dict)\n",
    "\n",
    "        i += 1\n",
    "\n",
    "    print(\"done with collecting all dapps\")\n",
    "\n",
    "    return dapp_list"
   ]
  },
  {
   "cell_type": "markdown",
   "metadata": {},
   "source": [
    "## Function 1 for abandoned dApps\n",
    "Abandoned dApps are not listed with the live, wip, beta, and prototype dApps and must be scraped from a different subpage"
   ]
  },
  {
   "cell_type": "code",
   "execution_count": 81,
   "metadata": {},
   "outputs": [],
   "source": [
    "# function 1 - for abandoned dApps\n",
    "\n",
    "def get_dapp_meta_data_abandoned(driver):\n",
    "\n",
    "    from selenium import webdriver\n",
    "    \"\"\"\n",
    "    - this function navigates to the state of the dapp webpage (abandoned subpage)\n",
    "    - on the webpage it collects all names and links of all dapps on the ethereum platform\n",
    "    - it takes a webdriver object as argument\n",
    "    - the collected variables have to match with the function above since both data are concatinated and inserted in the same db later on\n",
    "\n",
    "    - it returns a list of dictionaries containting:\n",
    "        - name of the dapp\n",
    "        - a short teaser\n",
    "        - the platform\n",
    "        - the category of the dapp\n",
    "        - the link to the subpage\n",
    "\n",
    "    \"\"\"\n",
    "\n",
    "    # go to first page\n",
    "    try:\n",
    "        driver.get(\"https://www.stateofthedapps.com/dapps/platform/ethereum?status=abandoned&page=1\")\n",
    "    except:\n",
    "        print(\"Driver could not access first page\")\n",
    "\n",
    "    # find number of last page\n",
    "    try:\n",
    "        last_page = driver.find_element_by_xpath('/html/body/div/div/div/div/main/div[2]/div/div[2]/div[3]/div/div[2]/button[5]/span').text\n",
    "    except:\n",
    "        print(\"Driver could not find last page\")\n",
    "\n",
    "    # init counter\n",
    "    i = 1\n",
    "\n",
    "    # init list that stores all dapp data\n",
    "    dapp_list = []\n",
    "\n",
    "    while i <= int(last_page):\n",
    "        driver.get(\"https://www.stateofthedapps.com/dapps/platform/ethereum?status=abandoned&page=\"+ str(i))\n",
    "        print(\"collecting page: \" + str(i))\n",
    "        \n",
    "\n",
    "        # finde table that contains all dapps\n",
    "        try:\n",
    "            card_list = driver.find_element_by_class_name(\"DappCardList\")\n",
    "        except:\n",
    "            print(\"Driver could not find DappCardList\")\n",
    "\n",
    "        # find all dApp cards\n",
    "\n",
    "        try:\n",
    "            cards = card_list.find_elements_by_tag_name('li') \n",
    "            \n",
    "        except:\n",
    "            print(\"Driver could not find rows in table-body\")\n",
    "\n",
    "        # loops through all rows of the table and store the data in a dict. Appends the dict to a list\n",
    "        for card in cards:\n",
    "            dapp_dict = {}\n",
    "\n",
    "            try:\n",
    "                dapp_dict[\"d_name\"] = card.find_element_by_class_name(\"title-4\").text\n",
    "            except:\n",
    "                dapp_dict[\"d_name\"] = \"NaN\"\n",
    "            try:\n",
    "                dapp_dict[\"d_teaser\"] = card.find_element_by_class_name(\"description\").text\n",
    "            except:\n",
    "                dapp_dict[\"d_teaser\"] =\"NaN\"\n",
    "            try:\n",
    "                dapp_dict[\"d_platform\"] = \"Ethereum\"\n",
    "            except:\n",
    "                dapp_dict[\"d_platform\"] = \"Ethereum\"\n",
    "            try:\n",
    "                dapp_dict[\"d_cat\"] = card.find_element_by_class_name(\"category\").text\n",
    "            except:\n",
    "                dapp_dict[\"d_cat\"] = \"NaN\"\n",
    "            try:\n",
    "                dapp_dict[\"d_link\"] = card.find_element_by_tag_name('a').get_attribute(\"href\")\n",
    "            except:\n",
    "                dapp_dict[\"d_link\"] = \"NaN\"\n",
    "\n",
    "            dapp_list.append(dapp_dict)\n",
    "\n",
    "        i += 1\n",
    "\n",
    "    print(\"done with collecting all dapps\")\n",
    "\n",
    "    return dapp_list"
   ]
  },
  {
   "cell_type": "code",
   "execution_count": null,
   "metadata": {},
   "outputs": [],
   "source": [
    "# test abandoned dapp function"
   ]
  },
  {
   "cell_type": "markdown",
   "metadata": {},
   "source": []
  },
  {
   "cell_type": "markdown",
   "metadata": {},
   "source": []
  },
  {
   "cell_type": "markdown",
   "metadata": {},
   "source": []
  },
  {
   "cell_type": "markdown",
   "metadata": {},
   "source": []
  },
  {
   "cell_type": "markdown",
   "metadata": {},
   "source": []
  },
  {
   "cell_type": "markdown",
   "metadata": {},
   "source": [
    "## Function 2 - loop through dapp subpages \n",
    "\n",
    "This function collects all data from all dapp subpages\n",
    "\n",
    "the data comprise:\n",
    "- status\n",
    "- author\n",
    "- license\n",
    "- description\n",
    "- last update\n",
    "- deployed\n",
    "- development activity\n",
    "- active users \n",
    "- transactions\n",
    "- volume \n",
    "- mainnet contracts (expand contracts)\n",
    "- critic review \n",
    "- critic review link\n",
    "- page views\n",
    "- page clicks\n",
    "- related dapps \n",
    "- comparable dapp incl. link\n",
    "- meta mask recommended? \n",
    "- dapp webpage\n",
    "- social media\n",
    "    - github, reddit, chat, blog, twitter\n",
    "- profile strenght\n",
    "- recommendations\n",
    "    - positive\n",
    "    - neutral\n",
    "    - negative\n",
    "- ponzi scheme warning"
   ]
  },
  {
   "cell_type": "code",
   "execution_count": 82,
   "metadata": {},
   "outputs": [],
   "source": [
    "def get_dapp_details(driver, dapp_link):\n",
    "\n",
    "    \"\"\"\n",
    "    this function navigates to a dapp's subpage an retrieves info about the dapp\n",
    "    it takes 2 arguments:\n",
    "        - driver: a webdriver object \n",
    "        - dapp_link: string (a link to a dapp's subpage)\n",
    "    \"\"\"\n",
    "    # im port libraries\n",
    "    from selenium import webdriver\n",
    "    import datetime\n",
    "\n",
    "    # init return dict\n",
    "    dapp_dict = {}\n",
    "\n",
    "    # navigate to subpage\n",
    "    driver.get(dapp_link)\n",
    "\n",
    "    # get data\n",
    "    # get status data \n",
    "    try:\n",
    "        dapp_dict[\"d_descr\"] = driver.find_element_by_class_name(\"description\").text\n",
    "    except:\n",
    "        dapp_dict[\"d_descr\"] = \"NaN\"\n",
    "    try:\n",
    "        dapp_dict[\"d_status\"] = driver.find_element_by_class_name(\"DappDetailBodyContentModulesStatus\").text[7:]\n",
    "    except:\n",
    "        dapp_dict[\"d_status\"] = \"NaN\"\n",
    "    try:\n",
    "        dapp_dict[\"d_author\"] = driver.find_element_by_class_name(\"author-data\").text\n",
    "    except:\n",
    "        dapp_dict[\"d_author\"] = \"NaN\"\n",
    "    try:\n",
    "        dapp_dict[\"d_license\"] = driver.find_element_by_class_name(\"license-data\").text\n",
    "    except:\n",
    "        dapp_dict[\"d_license\"] = \"NaN\"\n",
    "    try:\n",
    "        dapp_dict[\"d_updated\"] = driver.find_element_by_class_name(\"DappDetailBodyContentModulesUpdated\").text[21:]\n",
    "    except:\n",
    "        dapp_dict[\"d_updated\"] = \"NaN\"\n",
    "    try:\n",
    "        dapp_dict[\"d_submitted\"] = driver.find_element_by_class_name(\"DappDetailBodyContentModulesSubmitted\").text[13:]\n",
    "    except:\n",
    "        dapp_dict[\"d_submitted\"] = \"NaN\"\n",
    "    try:\n",
    "        dapp_dict[\"d_website\"] = driver.find_element_by_class_name(\"DappDetailBodyContentCtas\").find_element_by_tag_name('a').get_attribute('href')\n",
    "    except:\n",
    "        dapp_dict[\"d_website\"] = \"NaN\" \n",
    "    try:\n",
    "        dapp_dict[\"d_profile_str\"] = driver.find_element_by_class_name(\"DappProfile\").find_element_by_class_name(\"description\").text\n",
    "    except:\n",
    "        dapp_dict[\"d_profile_str\"] = \"NaN\"\n",
    "\n",
    "    # get development data\n",
    "    try:\n",
    "        dev_data = driver.find_elements_by_class_name(\"dev-data\")\n",
    "        dapp_dict[\"d_push\"] = dev_data[0].text\n",
    "        dapp_dict[\"d_pull\"] = dev_data[1].text\n",
    "    except:\n",
    "        dapp_dict[\"d_push\"] = \"NaN\"\n",
    "        dapp_dict[\"d_pull\"] = \"NaN\"\n",
    "\n",
    "    # get usage data\n",
    "    try:\n",
    "        stats_data = driver.find_elements_by_class_name(\"DappDetailBodyContentModulesStats\")\n",
    "\n",
    "        dapp_dict[\"d_users_d\"] = stats_data[0].text.split()[4]\n",
    "        dapp_dict[\"d_users_w\"] = stats_data[0].text.split()[6]\n",
    "        dapp_dict[\"d_users_m\"] = stats_data[0].text.split()[8]\n",
    "\n",
    "        dapp_dict[\"d_txn_1\"]  = stats_data[1].text.split()[3]\n",
    "        dapp_dict[\"d_txn_7\"]  = stats_data[1].text.split()[6]\n",
    "        dapp_dict[\"d_txn_30\"] = stats_data[1].text.split()[9]\n",
    "\n",
    "        dapp_dict[\"d_eth_1\"]  = stats_data[2].text.split()[4]\n",
    "        dapp_dict[\"d_eth_7\"]  = stats_data[2].text.split()[7]\n",
    "        dapp_dict[\"d_eth_30\"] = stats_data[2].text.split()[10]\n",
    "\n",
    "    except:\n",
    "        dapp_dict[\"d_users_d\"]  = \"NaN\"\n",
    "        dapp_dict[\"d_users_w\"]  = \"NaN\"\n",
    "        dapp_dict[\"d_users_m\"]  = \"NaN\"\n",
    "\n",
    "        dapp_dict[\"d_txn_1\"]    = \"NaN\"\n",
    "        dapp_dict[\"d_txn_7\"]    = \"NaN\"\n",
    "        dapp_dict[\"d_txn_30\"]   = \"NaN\"\n",
    "\n",
    "        dapp_dict[\"d_eth_1\"]    = \"NaN\"\n",
    "        dapp_dict[\"d_eth_7\"]    = \"NaN\"\n",
    "        dapp_dict[\"d_eth_30\"]   = \"NaN\"\n",
    "\n",
    "\n",
    "    # get contract addresses (mainnet)\n",
    "        # expand list of contracts \n",
    "    try:\n",
    "        driver.find_element_by_class_name(\"show-hide\").click()\n",
    "\n",
    "    except: \n",
    "        #print(\"no need to expand\")\n",
    "        pass\n",
    "\n",
    "        # store all contract addresses in a list \n",
    "    contract_list = []\n",
    "    try:\n",
    "        contract_name = driver.find_element_by_class_name(\"contract-name\").text\n",
    "\n",
    "        # check if contracts are mainnet contracts \n",
    "        if  contract_name == \"Mainnet Vertrags (Ethereum)\" or contract_name == \"Mainnet Vertrag (Ethereum)\" or contract_name == \"Mainnet contract (Ethereum)\"or contract_name == \"Mainnet contracts (Ethereum)\":\n",
    "\n",
    "            contract_addresses = driver.find_element_by_class_name(\"contract-addresses\")\n",
    "\n",
    "            for contract in contract_addresses.find_elements_by_class_name(\"contract-address-value\"):\n",
    "\n",
    "                contract_list.append(contract.text)\n",
    "\n",
    "        else:\n",
    "            contract_list = []\n",
    "            print(\"no mainnet contracts found\")\n",
    "    except:\n",
    "        contract_list = []\n",
    "        print(\"Driver could not find contract list element\")\n",
    "\n",
    "    dapp_dict[\"contract_list\"] = str(contract_list)\n",
    "\n",
    "\n",
    "\n",
    "    # get critical reviews \n",
    "    d_review_list = []\n",
    "\n",
    "    try:\n",
    "        review_section = driver.find_element_by_class_name(\"review-list\")\n",
    "        \n",
    "\n",
    "\n",
    "        for review in review_section.find_elements_by_class_name(\"review-item\"):\n",
    "\n",
    "            review_dict = {}\n",
    "\n",
    "            review_dict[\"summary\"] = review.find_element_by_class_name(\"summary\").text\n",
    "            review_dict[\"link\"] = review.find_element_by_tag_name('a').get_attribute('href')\n",
    "            d_review_list.append(review_dict)\n",
    "    except:\n",
    "        d_review_list = []\n",
    "\n",
    "    dapp_dict[\"d_review_list\"] = str(d_review_list)\n",
    "\n",
    "\n",
    "\n",
    "    # get page views and clicks\n",
    "    try:\n",
    "        dapp_dict[\"d_views\"] = driver.find_element_by_class_name(\"ctr-info\").find_elements_by_tag_name(\"strong\")[0].text[:-6]\n",
    "    except:\n",
    "        dapp_dict[\"d_views\"] = \"NaN\"\n",
    "    try:\n",
    "        dapp_dict[\"d_clicks\"] = driver.find_element_by_class_name(\"ctr-info\").find_elements_by_tag_name(\"strong\")[1].text[:-7]\n",
    "    except:\n",
    "        dapp_dict[\"d_clicks\"] = \"NaN\"\n",
    "    try:\n",
    "        dapp_dict[\"d_ctr\"] = driver.find_element_by_class_name(\"ctr-info\").find_elements_by_tag_name(\"strong\")[2].text[:-5]\n",
    "    except:\n",
    "        dapp_dict[\"d_ctr\"] = \"NaN\"\n",
    "\n",
    "\n",
    "    # get related dapps\n",
    "    rel_dapp_list = [] \n",
    "\n",
    "    try:\n",
    "        for card in driver.find_elements_by_class_name(\"DappCardListItem\"):\n",
    "            related_dapp_dict = {} \n",
    "\n",
    "            related_dapp_dict[\"name\"] = card.find_element_by_tag_name('a').find_elements_by_tag_name('div')[1].text.split(\"\\n\")[0]\n",
    "            related_dapp_dict[\"descr\"] = card.find_element_by_tag_name('a').find_elements_by_tag_name('div')[1].text.split(\"\\n\")[1]\n",
    "            related_dapp_dict[\"card_link\"] = card.find_element_by_tag_name('a').get_attribute('href')\n",
    "\n",
    "            rel_dapp_list.append(related_dapp_dict)\n",
    "    except:\n",
    "        rel_dapp_list = []\n",
    "\n",
    "    dapp_dict[\"rel_dapp_list\"] = str(rel_dapp_list)\n",
    "\n",
    "\n",
    "\n",
    "    # get social media channels \n",
    "    social_list = []\n",
    "\n",
    "    try:\n",
    "        for social in driver.find_elements_by_class_name(\"social-item\"):\n",
    "            social_list.append(social.find_element_by_tag_name('a').get_attribute('href'))\n",
    "\n",
    "        # get comparable dapp\n",
    "        d_comparable = driver.find_element_by_class_name(\"DappDetailBodyContentPlatform\").find_elements_by_tag_name('a')[1].get_attribute('href')\n",
    "\n",
    "    except:\n",
    "        social_list = []\n",
    "\n",
    "    dapp_dict[\"social_list\"] = str(social_list)\n",
    "\n",
    "\n",
    "\n",
    "\n",
    "    # get reactions\n",
    "    try:\n",
    "        reactions = driver.find_elements_by_class_name(\"reaction-item\")\n",
    "\n",
    "        dapp_dict[\"d_reaction_pos\"] = reactions[0].text\n",
    "        dapp_dict[\"d_reaction_neu\"] = reactions[1].text\n",
    "        dapp_dict[\"d_reaction_neg\"] = reactions[2].text\n",
    "\n",
    "    except:\n",
    "        dapp_dict[\"d_reaction_pos\"] = \"NaN\"\n",
    "        dapp_dict[\"d_reaction_neu\"] = \"NaN\"\n",
    "        dapp_dict[\"d_reaction_neg\"] = \"NaN\"\n",
    "\n",
    "    # get tag list\n",
    "    tag_list = []\n",
    "\n",
    "    try:\n",
    "        for item in driver.find_elements_by_class_name(\"tag-item\"):\n",
    "            tag_list.append(item.text)\n",
    "\n",
    "    except:\n",
    "        tag_list = []\n",
    "\n",
    "    dapp_dict[\"tag_list\"] = str(tag_list)\n",
    "\n",
    "    # get meta mask recommendation\n",
    "    try:\n",
    "        driver.find_element_by_class_name(\"DappDetailBodyContentPlatform\").find_element_by_class_name(\"software-wrapper\")\n",
    "        dapp_dict[\"d_metamask_recom\"] = 1\n",
    "    except:\n",
    "        dapp_dict[\"d_metamask_recom\"] = 0\n",
    "\n",
    "\n",
    "\n",
    "    # get ponzi warning\n",
    "    try:\n",
    "        dapp_dict[\"d_ponzi_warning\"] = driver.find_element_by_class_name(\"alert-wrapper\").text\n",
    "    except:\n",
    "        dapp_dict[\"d_ponzi_warning\"] = \"No warning\"\n",
    "\n",
    "\n",
    "    dapp_dict[\"added\"] = str(datetime.date.today())\n",
    "    \n",
    "    return dapp_dict\n",
    "\n"
   ]
  },
  {
   "cell_type": "markdown",
   "metadata": {},
   "source": []
  },
  {
   "cell_type": "markdown",
   "metadata": {},
   "source": []
  },
  {
   "cell_type": "markdown",
   "metadata": {},
   "source": []
  },
  {
   "cell_type": "markdown",
   "metadata": {},
   "source": [
    "# 2. Insert data into DB"
   ]
  },
  {
   "cell_type": "code",
   "execution_count": 20,
   "metadata": {},
   "outputs": [],
   "source": [
    "driver = init_webdriver()"
   ]
  },
  {
   "cell_type": "code",
   "execution_count": null,
   "metadata": {
    "tags": []
   },
   "outputs": [],
   "source": [
    "# call first function \n",
    "    # this command collects all live dapps and in a second step all abandoned dapps\n",
    "driver = init_webdriver()\n",
    "dapp_list = get_dapp_meta_data(driver)\n",
    "\n",
    "abandonded_dapp_list = get_dapp_meta_data_abandoned(driver)\n",
    "\n",
    "dapp_list = dapp_list + abandonded_dapp_list"
   ]
  },
  {
   "cell_type": "code",
   "execution_count": null,
   "metadata": {
    "tags": []
   },
   "outputs": [],
   "source": [
    "# call second function \n",
    "res_list = []\n",
    "for dapp_link in dapp_list:\n",
    "    dapp_detail_dict = get_dapp_details(driver, dapp_link[\"d_link\"])\n",
    "\n",
    "    res = {**dapp_link, **dapp_detail_dict}\n",
    "    res_list.append(res)\n",
    "    "
   ]
  },
  {
   "cell_type": "code",
   "execution_count": null,
   "metadata": {},
   "outputs": [],
   "source": [
    "# create insert data \n",
    "    # how to concat two dicts and get the values as a list\n",
    "#insert_data = list({**dapp_dict_1,**dapp_dict_2}.values())"
   ]
  },
  {
   "cell_type": "markdown",
   "metadata": {},
   "source": [
    "## Create the DB insert call"
   ]
  },
  {
   "cell_type": "code",
   "execution_count": 97,
   "metadata": {},
   "outputs": [],
   "source": [
    "import psycopg2\n",
    "# conncet to db\n",
    "\n",
    "connect = \"host=localhost dbname=postgres user=postgres password=\"\n",
    "password = \"\" # load password from environmen or hard code (not recommended)\n",
    "\n",
    "conn = psycopg2.connect(connect+password)\n",
    "cur = conn.cursor()"
   ]
  },
  {
   "cell_type": "code",
   "execution_count": 98,
   "metadata": {},
   "outputs": [],
   "source": [
    "# sql insert statement\n",
    "    # the insert data has to be a list\n",
    "dapp_data_insert = (\"\"\"INSERT INTO dapp_data (\n",
    "                            d_name,\n",
    "                            d_teaser, \n",
    "                            d_platform, \n",
    "                            d_cat,\n",
    "                            d_link,\n",
    "                            d_descr,\n",
    "                            d_status,\n",
    "                            d_author,\n",
    "                            d_license,\n",
    "                            d_updated,\n",
    "                            d_submitted,\n",
    "                            d_website,\n",
    "                            d_profile_str,\n",
    "                            d_push,\n",
    "                            d_pull,\n",
    "                            d_users_d,\n",
    "                            d_users_w,\n",
    "                            d_users_m,\n",
    "                            d_txn_1,\n",
    "                            d_txn_7,\n",
    "                            d_txn_30,\n",
    "                            d_eth_1,\n",
    "                            d_eth_7,\n",
    "                            d_eth_30,\n",
    "                            d_contract_list,\n",
    "                            d_review_list,\n",
    "                            d_views,\n",
    "                            d_clicks,\n",
    "                            d_ctr,\n",
    "                            d_rel_dapp_list,\n",
    "                            d_social_list,\n",
    "                            d_reaction_pos,\n",
    "                            d_reaction_neu,\n",
    "                            d_reaction_neg,\n",
    "                            d_tag_list,\n",
    "                            d_metamask_recom,\n",
    "                            d_ponzi_warning,\n",
    "                            added) \\\n",
    "                            VALUES (%s, %s, %s, %s, %s, %s, %s, %s, %s, %s, %s, %s, %s, %s, %s, %s, %s, %s, %s, %s, %s, %s, %s, %s, %s, %s, %s, %s, %s, %s, %s, %s, %s, %s, %s, %s, %s, %s)\n",
    "                            ON CONFLICT (d_name) DO NOTHING\n",
    "\"\"\")"
   ]
  },
  {
   "cell_type": "code",
   "execution_count": 99,
   "metadata": {},
   "outputs": [
    {
     "name": "stdout",
     "output_type": "stream",
     "text": [
      "data successfully inserted\n"
     ]
    }
   ],
   "source": [
    "# insert data in db\n",
    "    # the insert data has to be a list\n",
    "for result in res_list:\n",
    "    cur.execute(dapp_data_insert, list(result.values()))\n",
    "print(\"data successfully inserted\")"
   ]
  },
  {
   "cell_type": "code",
   "execution_count": 100,
   "metadata": {},
   "outputs": [],
   "source": [
    "# changes must be committed and connection must be closed\n",
    "conn.commit()\n",
    "conn.close()\n"
   ]
  },
  {
   "cell_type": "code",
   "execution_count": null,
   "metadata": {},
   "outputs": [],
   "source": []
  },
  {
   "cell_type": "markdown",
   "metadata": {},
   "source": [
    "## 3. Function that populates the dapp contract link table"
   ]
  },
  {
   "cell_type": "code",
   "execution_count": null,
   "metadata": {},
   "outputs": [],
   "source": [
    "import psycopg2\n",
    "# conncet to db\n",
    "\n",
    "connect = \"host=localhost dbname=postgres user=postgres password=\"\n",
    "password = \"\" #load password from environment or hard code (not recommended)\n",
    "\n",
    "conn = psycopg2.connect(connect+password)\n",
    "cur = conn.cursor()"
   ]
  },
  {
   "cell_type": "code",
   "execution_count": null,
   "metadata": {},
   "outputs": [],
   "source": [
    "# populate the contract link table\n",
    "    # the contract list in dapps_data needs to be split into single rows\n",
    "\n",
    "\n",
    "\n",
    "# create the sql insert command\n",
    "dapp_contract_link_insert = (\"\"\"INSERT INTO dapp_contract_link (\n",
    "                            c_address,\n",
    "                            d_name\n",
    "                            ) \\\n",
    "                            VALUES (%s, %s)\n",
    "                            ON CONFLICT (c_address) DO NOTHING\n",
    "\"\"\")\n",
    "\n",
    "\n",
    "# execute contract adddress query\n",
    "cur.execute(\"\"\"SELECT d_name, d_contract_list FROM dapp_data\"\"\")\n",
    "sql_results = cur.fetchall()\n",
    "\n",
    "# loop through all dapps\n",
    "for dapp_entry in sql_results:\n",
    "\n",
    "    # get the name of a dapp and store it in a variable\n",
    "    dapp_name = \"NaN\"\n",
    "    dapp_name = dapp_entry[0]\n",
    "    # get the contract address list and save it as a list\n",
    "    contract_list = ast.literal_eval(dapp_entry[1])\n",
    "\n",
    "    # loop through the contract list and save the dapp name with the dapp contract address in the contract_link table\n",
    "    for contract_address in contract_list:\n",
    "        insert_list = []\n",
    "        insert_list.append(contract_address)\n",
    "        insert_list.append(dapp_name)\n",
    "        \n",
    "\n",
    "        # insert in to db\n",
    "        cur.execute(dapp_contract_link_insert,insert_list)\n",
    "\n",
    "conn.close()\n",
    "\n",
    "print(\"data successfully inserted\")"
   ]
  },
  {
   "cell_type": "markdown",
   "metadata": {},
   "source": [
    "#### Example query to check if contract links are stored in DB"
   ]
  },
  {
   "cell_type": "code",
   "execution_count": null,
   "metadata": {},
   "outputs": [],
   "source": [
    "# execute contract adddress query\n",
    "cur.execute(\"\"\"SELECT * FROM dapp_contract_link\"\"\")\n",
    "\n",
    "sql_results = cur.fetchall()\n",
    "print(sql_results[1000])"
   ]
  },
  {
   "cell_type": "code",
   "execution_count": null,
   "metadata": {},
   "outputs": [],
   "source": []
  },
  {
   "cell_type": "markdown",
   "metadata": {},
   "source": []
  },
  {
   "cell_type": "markdown",
   "metadata": {},
   "source": []
  },
  {
   "cell_type": "markdown",
   "metadata": {},
   "source": [
    "## Test queries to check if the insert worked"
   ]
  },
  {
   "cell_type": "code",
   "execution_count": null,
   "metadata": {
    "tags": []
   },
   "outputs": [],
   "source": [
    "cur.execute(\"\"\"SELECT * FROM dapp_data\"\"\")\n",
    "#cur.execute(song_select, (row.song, row.artist, row.length))\n",
    "sql_results = cur.fetchall()\n",
    "for result in sql_results:\n",
    "    print(result)"
   ]
  },
  {
   "cell_type": "code",
   "execution_count": 103,
   "metadata": {
    "tags": []
   },
   "outputs": [
    {
     "name": "stdout",
     "output_type": "stream",
     "text": [
      "The sql extension is already loaded. To reload it, use:\n",
      "  %reload_ext sql\n"
     ]
    }
   ],
   "source": [
    "# cheack results \n",
    "%load_ext sql"
   ]
  },
  {
   "cell_type": "code",
   "execution_count": 104,
   "metadata": {
    "tags": []
   },
   "outputs": [],
   "source": []
  },
  {
   "cell_type": "code",
   "execution_count": null,
   "metadata": {
    "tags": []
   },
   "outputs": [],
   "source": [
    "%sql SELECT d_name, d_status FROM dapp_data;"
   ]
  },
  {
   "cell_type": "code",
   "execution_count": null,
   "metadata": {
    "tags": []
   },
   "outputs": [],
   "source": [
    "%sql SELECT d_name FROM dapp_data;"
   ]
  }
 ],
 "metadata": {
  "kernelspec": {
   "display_name": "Python 3.8.8 ('base')",
   "language": "python",
   "name": "python3"
  },
  "language_info": {
   "codemirror_mode": {
    "name": "ipython",
    "version": 3
   },
   "file_extension": ".py",
   "mimetype": "text/x-python",
   "name": "python",
   "nbconvert_exporter": "python",
   "pygments_lexer": "ipython3",
   "version": "3.8.8"
  },
  "orig_nbformat": 2,
  "vscode": {
   "interpreter": {
    "hash": "dc2398d343488ebfa594e654723f4d912c80550bd15e09b8e71b32ca9e80d13c"
   }
  }
 },
 "nbformat": 4,
 "nbformat_minor": 2
}
