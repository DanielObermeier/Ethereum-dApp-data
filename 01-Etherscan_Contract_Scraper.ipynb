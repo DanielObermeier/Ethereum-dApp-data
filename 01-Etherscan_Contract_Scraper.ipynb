{
 "cells": [
  {
   "cell_type": "markdown",
   "metadata": {},
   "source": [
    "# Etherscan Contract Scraper"
   ]
  },
  {
   "cell_type": "markdown",
   "metadata": {},
   "source": [
    "The purpose of this scraper is to download the info available about a dapps smart contract from etherscan.io\n",
    "\n",
    "To do so the scraper proceeds as follows:\n",
    "- first it gets the contract address from the ethereum_data database\n",
    "- it navigates to the etherscan.io subpage of the contract and retrievs all relevant data \n",
    "- it downloads the verified source code (if available) for the etherscan API\n",
    "- finally, it store all data in the contract_data table of the ethereum_data database "
   ]
  },
  {
   "cell_type": "code",
   "execution_count": null,
   "metadata": {},
   "outputs": [],
   "source": []
  },
  {
   "cell_type": "markdown",
   "metadata": {},
   "source": [
    "## 1. Load libraries"
   ]
  },
  {
   "cell_type": "code",
   "execution_count": 1,
   "metadata": {},
   "outputs": [],
   "source": [
    "# import libraries \n",
    "from selenium import webdriver\n",
    "from selenium.webdriver.common.keys import Keys\n",
    "from selenium.webdriver.chrome.options import Options\n",
    "import os\n",
    "import os.path\n",
    "import time\n",
    "import pandas as pd"
   ]
  },
  {
   "cell_type": "markdown",
   "metadata": {},
   "source": [
    "## 2. Init Webdriver"
   ]
  },
  {
   "cell_type": "code",
   "execution_count": 1,
   "metadata": {},
   "outputs": [],
   "source": [
    "# Initiating the webdriver (normally)\n",
    "def init_webdriver():\n",
    "    \"\"\" this function initiates the webdriver using the chromedriver.exe located in the directory\"\"\"\n",
    "\n",
    "    from selenium import webdriver\n",
    "    from selenium.webdriver.common.keys import Keys\n",
    "    from selenium.webdriver.chrome.options import Options\n",
    "    driver = webdriver.Chrome(r\"insert location of chromedriver\") #insert location of chromedriver\n",
    "    driver.maximize_window()\n",
    "    #driver.set_window_size(2560, 1440)\n",
    "\n",
    "    return driver\n",
    "\n",
    "def quit_webdriver(driver):\n",
    "    \"\"\" this function quits the webdriver session\"\"\"\n",
    "    driver.quit()"
   ]
  },
  {
   "cell_type": "code",
   "execution_count": 29,
   "metadata": {},
   "outputs": [],
   "source": [
    "driver = init_webdriver()"
   ]
  },
  {
   "cell_type": "markdown",
   "metadata": {},
   "source": [
    "## 3. Write a function that collects contract info"
   ]
  },
  {
   "cell_type": "code",
   "execution_count": 2,
   "metadata": {},
   "outputs": [],
   "source": [
    "# define get_contract_info function\n",
    "\n",
    "def get_contract_info(contract_address, driver):\n",
    "\n",
    "    \"\"\"\n",
    "    this function takes a contract address as argument, navigates to the etherscan subpage and returns four strings containing the contract infos \n",
    "\n",
    "    arguments:\n",
    "    - contract_addresss (string): address of a smart contract\n",
    "    - driver (webdriver object): webdriver\n",
    "    \"\"\"\n",
    "\n",
    "    # import libraries\n",
    "    import time\n",
    "\n",
    "    # create query link\n",
    "    link = \"https://etherscan.io/address/\"+contract_address+\"#code\"\n",
    "\n",
    "\n",
    "    # try to access the contract subpage and get information\n",
    "    try:\n",
    "        driver.get(link)\n",
    "\n",
    "        # find contract information\n",
    "\n",
    "        try: \n",
    "            nameTag = driver.find_element_by_xpath(\"/html/body/div[1]/main/div[4]/div[1]/div[1]/div/div[1]/div/span/span\").text\n",
    "        except:                                     \n",
    "            try: \n",
    "                nameTag = driver.find_element_by_xpath(\"/html/body/div[1]/main/div[4]/div[1]/div[1]/div/div[1]/div/span\").text\n",
    "            except:\n",
    "                try:\n",
    "                    nameTag = driver.find_element_by_xpath(\"/html/body/div[1]/main/div[5]/div[1]/div[1]/div/div[1]/div/span/span\").text\n",
    "                except:\n",
    "                    nameTag = \"notFound\"\n",
    "        try: \n",
    "            website = driver.find_element_by_xpath(\"/html/body/div[1]/main/div[4]/div[1]/div[1]/div/div[1]/div/span/a\").get_attribute('href')\n",
    "        except:\n",
    "            try:\n",
    "                website = driver.find_element_by_xpath(\"/html/body/div[1]/main/div[5]/div[1]/div[1]/div/div[1]/div/span/a\").get_attribute('href')\n",
    "            except:                                    \n",
    "                website = \"notFound\"\n",
    "        try:\n",
    "            tokenName = driver.find_element_by_xpath(\"/html/body/div[1]/main/div[4]/div[1]/div[2]/div/div[2]/div[3]/div/div[2]/a\").text\n",
    "        except:                                        \n",
    "            try:\n",
    "                tokenName = driver.find_element_by_xpath(\"/html/body/div[1]/main/div[5]/div[1]/div[2]/div/div[2]/div[3]/div/div[2]/a\").text\n",
    "            except:                                    \n",
    "                tokenName = \"notFound\"\n",
    "\n",
    "        # wait until the contract subpage is completely loaded\n",
    "        time.sleep(1)\n",
    "        try:\n",
    "            contractName = driver.find_element_by_xpath(\"/html/body/div[1]/main/div[4]/div[3]/div[2]/div/div[8]/div[2]/div[1]/div[2]/div[1]/div[1]/div[2]/span\").text\n",
    "        except:   \n",
    "            try:\n",
    "                contractName = driver.find_element_by_xpath(\"/html/body/div[1]/main/div[5]/div[3]/div[2]/div/div[8]/div[2]/div[1]/div[2]/div[1]/div[1]/div[2]/span\").text\n",
    "            except:\n",
    "                contractName = \"notFound\"\n",
    "\n",
    "\n",
    "        return nameTag, website, tokenName, contractName\n",
    "\n",
    "    # if the subpage cannot be accessed, throw error message and return string\n",
    "    except:\n",
    "        print(\"could not access contract subpage: \"+contract_address)\n",
    "\n",
    "        return \"notAccessed\", \"notAccessed\", \"notAccessed\", \"notAccessed\"\n",
    "\n",
    "\n",
    " "
   ]
  },
  {
   "cell_type": "markdown",
   "metadata": {},
   "source": [
    "## 4. Scrape the data and save it"
   ]
  },
  {
   "cell_type": "markdown",
   "metadata": {},
   "source": [
    "### 4.1 Prepare the inital dataset"
   ]
  },
  {
   "cell_type": "code",
   "execution_count": 27,
   "metadata": {},
   "outputs": [
    {
     "data": {
      "text/html": [
       "<div>\n",
       "<style scoped>\n",
       "    .dataframe tbody tr th:only-of-type {\n",
       "        vertical-align: middle;\n",
       "    }\n",
       "\n",
       "    .dataframe tbody tr th {\n",
       "        vertical-align: top;\n",
       "    }\n",
       "\n",
       "    .dataframe thead th {\n",
       "        text-align: right;\n",
       "    }\n",
       "</style>\n",
       "<table border=\"1\" class=\"dataframe\">\n",
       "  <thead>\n",
       "    <tr style=\"text-align: right;\">\n",
       "      <th></th>\n",
       "      <th>to_address</th>\n",
       "      <th>from_count</th>\n",
       "      <th>collected</th>\n",
       "      <th>nametag</th>\n",
       "      <th>website</th>\n",
       "      <th>tokenName</th>\n",
       "      <th>contractName</th>\n",
       "    </tr>\n",
       "  </thead>\n",
       "  <tbody>\n",
       "    <tr>\n",
       "      <th>0</th>\n",
       "      <td>0x7a250d5630b4cf539739df2c5dacb4c659f2488d</td>\n",
       "      <td>51159574</td>\n",
       "      <td>no</td>\n",
       "      <td></td>\n",
       "      <td></td>\n",
       "      <td></td>\n",
       "      <td></td>\n",
       "    </tr>\n",
       "    <tr>\n",
       "      <th>1</th>\n",
       "      <td>0xa0b86991c6218b36c1d19d4a2e9eb0ce3606eb48</td>\n",
       "      <td>16349094</td>\n",
       "      <td>no</td>\n",
       "      <td></td>\n",
       "      <td></td>\n",
       "      <td></td>\n",
       "      <td></td>\n",
       "    </tr>\n",
       "    <tr>\n",
       "      <th>2</th>\n",
       "      <td>0x174bfa6600bf90c885c7c01c7031389ed1461ab9</td>\n",
       "      <td>9088337</td>\n",
       "      <td>no</td>\n",
       "      <td></td>\n",
       "      <td></td>\n",
       "      <td></td>\n",
       "      <td></td>\n",
       "    </tr>\n",
       "    <tr>\n",
       "      <th>3</th>\n",
       "      <td>0xe592427a0aece92de3edee1f18e0157c05861564</td>\n",
       "      <td>4413904</td>\n",
       "      <td>no</td>\n",
       "      <td></td>\n",
       "      <td></td>\n",
       "      <td></td>\n",
       "      <td></td>\n",
       "    </tr>\n",
       "    <tr>\n",
       "      <th>4</th>\n",
       "      <td>0x00000000003b3cc22af3ae1eac0440bcee416b40</td>\n",
       "      <td>4125682</td>\n",
       "      <td>no</td>\n",
       "      <td></td>\n",
       "      <td></td>\n",
       "      <td></td>\n",
       "      <td></td>\n",
       "    </tr>\n",
       "    <tr>\n",
       "      <th>...</th>\n",
       "      <td>...</td>\n",
       "      <td>...</td>\n",
       "      <td>...</td>\n",
       "      <td>...</td>\n",
       "      <td>...</td>\n",
       "      <td>...</td>\n",
       "      <td>...</td>\n",
       "    </tr>\n",
       "    <tr>\n",
       "      <th>97035</th>\n",
       "      <td>0x2431b64cdd6d7e9a630046d225ba4f01b3ac9d3b</td>\n",
       "      <td>101</td>\n",
       "      <td>no</td>\n",
       "      <td></td>\n",
       "      <td></td>\n",
       "      <td></td>\n",
       "      <td></td>\n",
       "    </tr>\n",
       "    <tr>\n",
       "      <th>97036</th>\n",
       "      <td>0x3e650349fd52bc9d7fcd4fb1737e269d1e667ddf</td>\n",
       "      <td>101</td>\n",
       "      <td>no</td>\n",
       "      <td></td>\n",
       "      <td></td>\n",
       "      <td></td>\n",
       "      <td></td>\n",
       "    </tr>\n",
       "    <tr>\n",
       "      <th>97037</th>\n",
       "      <td>0xe5f06db4f3473e7e35490f1f98017728496fe81e</td>\n",
       "      <td>101</td>\n",
       "      <td>no</td>\n",
       "      <td></td>\n",
       "      <td></td>\n",
       "      <td></td>\n",
       "      <td></td>\n",
       "    </tr>\n",
       "    <tr>\n",
       "      <th>97038</th>\n",
       "      <td>0x5dc3aab4da6e02088e8abeeb689b7f1a25e00002</td>\n",
       "      <td>101</td>\n",
       "      <td>no</td>\n",
       "      <td></td>\n",
       "      <td></td>\n",
       "      <td></td>\n",
       "      <td></td>\n",
       "    </tr>\n",
       "    <tr>\n",
       "      <th>97039</th>\n",
       "      <td>0xc30045ca3e4e22e332d6f002f69eb15797459b9b</td>\n",
       "      <td>101</td>\n",
       "      <td>no</td>\n",
       "      <td></td>\n",
       "      <td></td>\n",
       "      <td></td>\n",
       "      <td></td>\n",
       "    </tr>\n",
       "  </tbody>\n",
       "</table>\n",
       "<p>97040 rows × 7 columns</p>\n",
       "</div>"
      ],
      "text/plain": [
       "                                       to_address  from_count collected  \\\n",
       "0      0x7a250d5630b4cf539739df2c5dacb4c659f2488d    51159574        no   \n",
       "1      0xa0b86991c6218b36c1d19d4a2e9eb0ce3606eb48    16349094        no   \n",
       "2      0x174bfa6600bf90c885c7c01c7031389ed1461ab9     9088337        no   \n",
       "3      0xe592427a0aece92de3edee1f18e0157c05861564     4413904        no   \n",
       "4      0x00000000003b3cc22af3ae1eac0440bcee416b40     4125682        no   \n",
       "...                                           ...         ...       ...   \n",
       "97035  0x2431b64cdd6d7e9a630046d225ba4f01b3ac9d3b         101        no   \n",
       "97036  0x3e650349fd52bc9d7fcd4fb1737e269d1e667ddf         101        no   \n",
       "97037  0xe5f06db4f3473e7e35490f1f98017728496fe81e         101        no   \n",
       "97038  0x5dc3aab4da6e02088e8abeeb689b7f1a25e00002         101        no   \n",
       "97039  0xc30045ca3e4e22e332d6f002f69eb15797459b9b         101        no   \n",
       "\n",
       "      nametag website tokenName contractName  \n",
       "0                                             \n",
       "1                                             \n",
       "2                                             \n",
       "3                                             \n",
       "4                                             \n",
       "...       ...     ...       ...          ...  \n",
       "97035                                         \n",
       "97036                                         \n",
       "97037                                         \n",
       "97038                                         \n",
       "97039                                         \n",
       "\n",
       "[97040 rows x 7 columns]"
      ]
     },
     "execution_count": 27,
     "metadata": {},
     "output_type": "execute_result"
    }
   ],
   "source": [
    "df_contracts = pd.read_csv(r\"location of csv file\", sep=\";\")\n",
    "#contract_list = df_contracts[\"to_address\"].to_list()\n",
    "\n",
    "# set new variables\n",
    "df_contracts[\"collected\"] = \"no\"\n",
    "df_contracts[\"nametag\"] = \"\"\n",
    "df_contracts[\"website\"] = \"\"\n",
    "df_contracts[\"tokenName\"] = \"\"\n",
    "df_contracts[\"contractName\"] = \"\"\n",
    "\n",
    "# store dataframe with new variables\n",
    "df_contracts.to_csv('2021-12 contracts_outside_sample_collected.csv', sep=\";\",index=False)\n",
    "\n",
    "df_contracts"
   ]
  },
  {
   "cell_type": "code",
   "execution_count": 163,
   "metadata": {},
   "outputs": [],
   "source": [
    "driver = init_webdriver()"
   ]
  },
  {
   "cell_type": "code",
   "execution_count": null,
   "metadata": {},
   "outputs": [],
   "source": [
    "for index, row in df_contracts.iterrows():\n",
    "    if row[\"collected\"] == \"no\":\n",
    "        print(str(get_contract_info(row[\"to_address\"], driver)))"
   ]
  },
  {
   "cell_type": "code",
   "execution_count": 49,
   "metadata": {},
   "outputs": [
    {
     "data": {
      "text/plain": [
       "40"
      ]
     },
     "execution_count": 49,
     "metadata": {},
     "output_type": "execute_result"
    }
   ],
   "source": [
    "df_contracts = pd.read_csv(r\"C:\\Users\\DanielObermeier\\OneDrive\\Dokumente\\PhD\\02 - Forschung\\00 - Projects\\02 Market for Transactions\\Code\\Scraping\\To change\\2021-12 contracts_outside_sample_test.csv\", sep=\";\")\n",
    "\n",
    "\n",
    "\n",
    "# initiate count as first index that has not been collected yet.\n",
    "count = df_contracts.index[df_contracts['collected'] == \"no\"].min()\n",
    "count"
   ]
  },
  {
   "cell_type": "markdown",
   "metadata": {},
   "source": [
    "### 4.2 Loop through the dataset for the first time (can be restarted)"
   ]
  },
  {
   "cell_type": "code",
   "execution_count": 4,
   "metadata": {},
   "outputs": [
    {
     "name": "stdout",
     "output_type": "stream",
     "text": [
      "index: 97001 collected contract: 0xb35cece152bc59f95e01e6c65936e069b9f4d326\n",
      "index: 97002 collected contract: 0xabd10eed378c11e02cb2fac8ba7251aed247cc22\n",
      "index: 97003 collected contract: 0x8bf3873722b8b643ac9e47e3350336954615c796\n",
      "index: 97004 collected contract: 0xd5af8c362d39589aeab0ba8ee5b6bbcbbc6dcd03\n",
      "index: 97005 collected contract: 0x60ad94f70883e78feff2ce9aaaaaab82d2d467ff\n",
      "index: 97006 collected contract: 0xd85dac80243b1c9d23bbec96c77bdb2eca05d2c9\n",
      "index: 97007 collected contract: 0xbd880c025e49b903ff8ac8fdaf9aba02340177b3\n",
      "index: 97008 collected contract: 0x14aa2d0eb40a5b19b67e0ed6644e6538061b4cf6\n",
      "index: 97009 collected contract: 0x9880531938e409ff35cb52de9c1478efe6c69aa1\n",
      "index: 97010 collected contract: 0x072a1ba9fa10dea38ad2f4043a8385fbbf108cb2\n",
      "index: 97011 collected contract: 0x100b8dac74aea27e71c3ec8ed65b9507381125f5\n",
      "index: 97012 collected contract: 0xb17ec70779a3817281f1b8927b24e26d08ae8997\n",
      "index: 97013 collected contract: 0x9d0fc4b8e8a501eb664e2270a8581a2c98946fc7\n",
      "index: 97014 collected contract: 0x1cb38065fff6c47d838196988644e963452921f9\n",
      "index: 97015 collected contract: 0xedbfb901bc1efa4a1b6868fb1ef07c56e4dd6a66\n",
      "index: 97016 collected contract: 0x91a1e7e24fbbcd8281bcee82bcfb83edc7233636\n",
      "index: 97017 collected contract: 0x1332292b4efbeef6f03dbdb4d8378403fb61ca49\n",
      "index: 97018 collected contract: 0xb4acb6592534bc3bc11c5e23abae89a29898f693\n",
      "index: 97019 collected contract: 0x37633ef4f80dd61ce553d2c326f327d7cb546aff\n",
      "index: 97020 collected contract: 0x1044d32f67cb80464b20fe2b0bfccd0dfd24a93c\n",
      "index: 97021 collected contract: 0x73e08f8cdb9e4c305f36c3e48e9e8477a26a3f00\n",
      "index: 97022 collected contract: 0x590c6bd8398d7d383a81dc5b72d411dcf3263462\n",
      "index: 97023 collected contract: 0xefd86082fbf6a7bd41a5a2ae8080f3b655d8102a\n",
      "index: 97024 collected contract: 0x7bddb4baba585516f39bdd94323da38744de2530\n",
      "index: 97025 collected contract: 0xf2a76a35b5ec308b3a826c4b8c159f16563f3059\n",
      "index: 97026 collected contract: 0x432a98e1dde7f085ec0d2f149182e1ece0981d55\n",
      "index: 97027 collected contract: 0x6a0168743bad35966b0f5e704a91a3f54aefc886\n",
      "index: 97028 collected contract: 0xd762e6906f0d96043a661b06f9430d3129186f41\n",
      "index: 97029 collected contract: 0xed44116439a9042890121a8aee008202a5954132\n",
      "index: 97030 collected contract: 0xc9fb34581495146dacd8976b512ac75ca3ee547a\n",
      "index: 97031 collected contract: 0x4c0296140a8a1e67af3b1b7398033b1f35f21c4e\n",
      "index: 97032 collected contract: 0x9b869c2eaae08136c43d824ea75a2f376f1aa983\n",
      "index: 97033 collected contract: 0xa48ccf809c89c73b550ef79c1923f8504c8e45ca\n",
      "index: 97034 collected contract: 0x3c0a672c5f13d607da586c1876ed68dd16fbb35c\n",
      "index: 97035 collected contract: 0x9efcae1682f83f4256ce5b4710c116dcb8a373d3\n",
      "index: 97036 collected contract: 0x2431b64cdd6d7e9a630046d225ba4f01b3ac9d3b\n",
      "index: 97037 collected contract: 0x3e650349fd52bc9d7fcd4fb1737e269d1e667ddf\n",
      "index: 97038 collected contract: 0xe5f06db4f3473e7e35490f1f98017728496fe81e\n",
      "index: 97039 collected contract: 0x5dc3aab4da6e02088e8abeeb689b7f1a25e00002\n",
      "index: 97040 collected contract: 0xc30045ca3e4e22e332d6f002f69eb15797459b9b\n",
      "all contract info has been collected\n"
     ]
    }
   ],
   "source": [
    "import pandas as pd\n",
    "# import libraries\n",
    "from datetime import datetime\n",
    "\n",
    "# load dataframe\n",
    "    # only for first run\n",
    "#df_contracts = pd.read_csv(r\"C:\\Users\\DanielObermeier\\OneDrive\\Dokumente\\PhD\\02 - Forschung\\00 - Projects\\02 Market for Transactions\\Code\\Scraping\\To change\\2021-12 contracts_outside_sample_collected.csv\", sep=\";\")\n",
    "df_contracts = pd.read_csv(r\"C:\\Users\\DanielObermeier\\OneDrive\\Dokumente\\PhD\\02 - Forschung\\00 - Projects\\02 Market for Transactions\\Code\\Scraping\\To change\\2021-12 contracts_outside_sample_test.csv\", sep=\";\")\n",
    "\n",
    "# initiate headless webdriver\n",
    "driver = init_webdriver()\n",
    "\n",
    "# initiate count as first index that has not been collected yet.\n",
    "count = df_contracts.index[df_contracts['collected'] == \"no\"].min()\n",
    "\n",
    "# loop through rows\n",
    "for index, row in df_contracts.iterrows():\n",
    "\n",
    "    # collect data only for contracts that have not been collected yet\n",
    "    if row[\"collected\"] == \"no\":\n",
    "        count += 1\n",
    "        # call function and collect info from etherscan\n",
    "        result = get_contract_info(row[\"to_address\"], driver)\n",
    "        \n",
    "        # assign results to columns\n",
    "        df_contracts.iloc[index,2] = \"yes\"\n",
    "        df_contracts.iloc[index,3] = result[0]\n",
    "        df_contracts.iloc[index,4] = result[1]\n",
    "        df_contracts.iloc[index,5] = result[2]\n",
    "        df_contracts.iloc[index,6] = result[3]\n",
    "\n",
    "        print(\"index: \"+str(count)+\" collected contract: \"+ row[\"to_address\"])\n",
    "\n",
    "        # save the result every 100 \n",
    "        if count % 100 == 0:\n",
    "            df_contracts.to_csv('2021-12 contracts_outside_sample_scraped.csv', sep=\";\", index=False)\n",
    "            print(\"results have been saved at: \"+str(datetime.now().strftime(\"%d/%m/%Y %H:%M:%S\")))\n",
    "            \n",
    "    \n",
    "print(\"all contract info has been collected\")\n",
    "df_contracts.to_csv('2021-12 contracts_outside_sample_scraped.csv', sep=\";\", index=False)\n",
    "print(\"results have been saved at: \"+str(datetime.now().strftime(\"%d/%m/%Y %H:%M:%S\")))\n",
    "# quit webdriver\n",
    "quit_webdriver(driver)\n"
   ]
  },
  {
   "cell_type": "markdown",
   "metadata": {},
   "source": [
    "### 4.3 Loop through the dataset for the second time to find double check contracts that could not be accessed"
   ]
  },
  {
   "cell_type": "code",
   "execution_count": 15,
   "metadata": {},
   "outputs": [
    {
     "name": "stdout",
     "output_type": "stream",
     "text": [
      "nes\n"
     ]
    }
   ],
   "source": [
    "print(df_contracts.iloc[1,3])"
   ]
  },
  {
   "cell_type": "code",
   "execution_count": null,
   "metadata": {},
   "outputs": [],
   "source": []
  },
  {
   "cell_type": "code",
   "execution_count": null,
   "metadata": {},
   "outputs": [],
   "source": []
  },
  {
   "cell_type": "markdown",
   "metadata": {},
   "source": [
    "# 5. Matching missing contracts"
   ]
  },
  {
   "cell_type": "code",
   "execution_count": 5,
   "metadata": {},
   "outputs": [],
   "source": [
    "# import the dataset\n",
    "import pandas as pd\n",
    "\n",
    "# import unmatched contracts\n",
    "df_contracts_to_match = pd.read_csv(r\"C:\\Users\\DanielObermeier\\OneDrive\\Dokumente\\PhD\\02 - Forschung\\00 - Projects\\02 Market for Transactions\\Code\\Scraping\\To change\\2021-12 contracts_outside_sample_scraped.csv\", sep=\";\")\n",
    "df_contracts_to_match\n",
    "\n",
    "\n",
    "# import list of dApps that should be matched\n",
    "df_dapps_to_match = pd.read_csv(r\"C:\\Users\\DanielObermeier\\OneDrive\\Dokumente\\PhD\\02 - Forschung\\00 - Projects\\02 Market for Transactions\\Code\\Scraping\\To change\\2021-12 dapp_contract_link_sotd_defilama_to_match.csv\", sep=\";\")\n",
    "dapps_to_match_list = list(df_dapps_to_match[\"d_name\"].unique())\n"
   ]
  },
  {
   "cell_type": "code",
   "execution_count": 6,
   "metadata": {},
   "outputs": [],
   "source": [
    "# import library\n",
    "\n",
    "from fuzzywuzzy import fuzz\n",
    "from fuzzywuzzy import process\n",
    "\n",
    "def fuzzy_matching(match_string, match_list):\n",
    "\n",
    "    \n",
    "    match_string = match_string.lower()\n",
    "    match_string_prefix = match_string.split(\":\")[0].split(\" \")[0] # only take name before colon\n",
    "\n",
    "    # use scorer option to set ratio for extract\n",
    "    \n",
    "    best_matches_partial = process.extractOne(match_string_prefix, match_list, scorer=fuzz.partial_ratio)\n",
    "    #best_matches_sort = process.extractOne(match_string, match_list, scorer=fuzz.token_sort_ratio)\n",
    "    #best_matches_set = process.extractOne(match_string, match_list, scorer=fuzz.token_set_ratio)\n",
    "    best_matches_Wratio = process.extractOne(match_string, match_list)\n",
    "    \n",
    "    match_list = [best_matches_Wratio, best_matches_partial]  # best_matches_set, best_matches_sort,\n",
    "    \n",
    "\n",
    "    # If we want only the top one -> process uses the Wratio which is a weighted combination of\n",
    "    # best_matches = process.extractOne(test_contract_name, dapps_to_match_list)\n",
    "    #  return best_match\n",
    "    return match_list\n"
   ]
  },
  {
   "cell_type": "code",
   "execution_count": null,
   "metadata": {},
   "outputs": [],
   "source": [
    "\"\"\"# test matching function\n",
    "fuzzy_matching(\"Shiba Inu: SHIB Token\", dapps_to_match_list)\"\"\""
   ]
  },
  {
   "cell_type": "code",
   "execution_count": null,
   "metadata": {},
   "outputs": [],
   "source": [
    "\"\"\"# test different matching modes\n",
    "match_string = \"Shiba Inu: SHIB Token\"\n",
    "match_list = dapps_to_match_list\n",
    "\n",
    "x = process.extractOne(match_string, match_list)\n",
    "print(x)\n",
    "\n",
    "match_string_pre = match_string.split(\":\")[0].split(\" \")[0] # only take name before colon\n",
    "y = process.extractOne(match_string_pre, match_list, scorer=fuzz.partial_ratio)\n",
    "print(y)\"\"\"\n"
   ]
  },
  {
   "cell_type": "code",
   "execution_count": 7,
   "metadata": {},
   "outputs": [
    {
     "data": {
      "text/plain": [
       "11702"
      ]
     },
     "execution_count": 7,
     "metadata": {},
     "output_type": "execute_result"
    }
   ],
   "source": [
    "# pre-filter df \n",
    "    #   only contracts that have been collected \n",
    "df_contracts_to_match = df_contracts_to_match.loc[df_contracts_to_match['collected'] == \"yes\"]\n",
    "    # only contracts where a name tag was found \n",
    "df_contracts_to_match = df_contracts_to_match.loc[df_contracts_to_match['nametag'] != \"notFound\"]\n",
    "\n",
    "# show data frame\n",
    "#df_contracts_to_match\n",
    "\n",
    "# show number of contract to match\n",
    "len(df_contracts_to_match)"
   ]
  },
  {
   "cell_type": "code",
   "execution_count": 9,
   "metadata": {},
   "outputs": [
    {
     "name": "stderr",
     "output_type": "stream",
     "text": [
      "Pandas Apply: 100%|██████████| 11702/11702 [26:18<00:00,  7.41it/s]\n"
     ]
    }
   ],
   "source": [
    "import swifter\n",
    "# apply fuzzy matching \n",
    "df_contracts_to_match[\"match\"] = df_contracts_to_match[\"nametag\"].swifter.apply(lambda x: fuzzy_matching(x, dapps_to_match_list))\n",
    "\n",
    "# split list of column to multiple columns\n",
    "df_contracts_to_match[['match1','match2']] = pd.DataFrame(df_contracts_to_match.match.tolist(), index= df_contracts_to_match.index)\n",
    "df_contracts_to_match[['match1_name','match1_certainty']] = pd.DataFrame(df_contracts_to_match.match1.tolist(), index= df_contracts_to_match.index)\n",
    "df_contracts_to_match[['match2_name','match2_certainty']] = pd.DataFrame(df_contracts_to_match.match2.tolist(), index= df_contracts_to_match.index)\n",
    "#df_contracts_to_match"
   ]
  },
  {
   "cell_type": "code",
   "execution_count": 11,
   "metadata": {},
   "outputs": [],
   "source": [
    "# export matched data \n",
    "df_contracts_to_match.to_csv('2021-12 contracts_matched_all.csv', sep=\";\", index=False)"
   ]
  },
  {
   "cell_type": "code",
   "execution_count": null,
   "metadata": {},
   "outputs": [],
   "source": []
  },
  {
   "cell_type": "code",
   "execution_count": null,
   "metadata": {},
   "outputs": [],
   "source": []
  },
  {
   "cell_type": "code",
   "execution_count": null,
   "metadata": {},
   "outputs": [],
   "source": []
  },
  {
   "cell_type": "markdown",
   "metadata": {},
   "source": [
    "# OLD To Be Changed for MfT Project"
   ]
  },
  {
   "cell_type": "markdown",
   "metadata": {},
   "source": [
    "## 3. Get contract addresses from the ethereum_data database"
   ]
  },
  {
   "cell_type": "code",
   "execution_count": 30,
   "metadata": {},
   "outputs": [],
   "source": [
    "def get_contract_addresses():\n",
    "    \"\"\"\n",
    "    this function connects to the ethereum_data database, retrieves all contract addresses, and returns them in a list\n",
    "\n",
    "    \"\"\"\n",
    "    \n",
    "    # import libraries\n",
    "    import psycopg2\n",
    "    import ast\n",
    "\n",
    "    # init return list\n",
    "    contract_address_list = []\n",
    "\n",
    "\n",
    "\n",
    "    # conncet to db\n",
    "    conn = psycopg2.connect(\"host=localhost dbname=ethereum_data user=postgres password=DanielObermeierSuperUser2207\")\n",
    "    cur = conn.cursor()\n",
    "    print(\"has successfully connected to db\")\n",
    "\n",
    "\n",
    "    # execute contract adddress query\n",
    "    cur.execute(\"\"\"SELECT d_contract_list FROM dapp_data\"\"\")\n",
    "    \n",
    "    sql_results = cur.fetchall()\n",
    "    for address_list in sql_results:\n",
    "        address_list = ast.literal_eval(address_list[0])\n",
    "        \n",
    "        for address in address_list:\n",
    "            contract_address_list.append(address)\n",
    "\n",
    "    # close connections to the database\n",
    "    conn.close()\n",
    "\n",
    "    print(\"has collected all \"+str(len(contract_address_list)) +\" contract addresses\")\n",
    "\n",
    "    return contract_address_list"
   ]
  },
  {
   "cell_type": "code",
   "execution_count": 31,
   "metadata": {
    "tags": []
   },
   "outputs": [
    {
     "name": "stdout",
     "output_type": "stream",
     "text": [
      "has successfully connected to db\n",
      "has collected all 3855 contract addresses\n"
     ]
    }
   ],
   "source": [
    "res = get_contract_addresses()"
   ]
  },
  {
   "cell_type": "code",
   "execution_count": 33,
   "metadata": {},
   "outputs": [
    {
     "data": {
      "text/plain": [
       "'0x514910771af9ca656af840dff83e8264ecf986ca'"
      ]
     },
     "execution_count": 33,
     "metadata": {},
     "output_type": "execute_result"
    }
   ],
   "source": [
    "res[0]"
   ]
  },
  {
   "cell_type": "markdown",
   "metadata": {},
   "source": [
    "## 4. Get data from etherscan"
   ]
  },
  {
   "cell_type": "markdown",
   "metadata": {},
   "source": [
    "### 4.1 Get data from website"
   ]
  },
  {
   "cell_type": "markdown",
   "metadata": {},
   "source": [
    "variables to collect:\n",
    "- contract address\n",
    "- contract name\n",
    "- contract creator\n",
    "- token traker\n",
    "- compiler version\n",
    "- source code verified \n",
    "- contract creation"
   ]
  },
  {
   "cell_type": "code",
   "execution_count": 103,
   "metadata": {},
   "outputs": [],
   "source": [
    "# function to get data from website\n",
    "\n",
    "def get_contract_data(contract_address, driver):\n",
    "\n",
    "    \"\"\"\n",
    "    this function takes a contract address as argument, navigates to the etherscan subpage and returns a dict containing    technical contract details \n",
    "\n",
    "    arguments:\n",
    "    - contract_addresss (string): address of a smart contract\n",
    "    - driver (webdriver object): webdriver\n",
    "    \"\"\"\n",
    "    # init return dict\n",
    "    contract_dict = {}\n",
    "\n",
    "    # create url\n",
    "    contract_addres = \"0x514910771af9ca656af840dff83e8264ecf986ca\"\n",
    "    link = \"https://etherscan.io/address/\"+contract_address+\"#code\"\n",
    "\n",
    "    try:\n",
    "        driver.get(link)\n",
    "    except:\n",
    "        print(\"could not access webpage\")\n",
    "\n",
    "    # store contract address\n",
    "    contract_dict[\"c_address\"] = contract_address\n",
    "\n",
    "\n",
    "    # get contract name\n",
    "    try:\n",
    "        contract_dict[\"c_name\"] = driver.find_element_by_xpath('//*[@id=\"ContentPlaceHolder1_contractCodeDiv\"]/div[2]/div[1]/div[1]/div[2]/span').text\n",
    "    except:\n",
    "        contract_dict[\"c_name\"] = \"NaN\"\n",
    "\n",
    "    # get contract creator\n",
    "    try:\n",
    "        contract_dict[\"c_creator\"] = driver.find_element_by_xpath('//*[@id=\"ContentPlaceHolder1_trContract\"]/div/div[2]/a').text\n",
    "    except:\n",
    "        contract_dict[\"c_creator\"] = \"NaN\"\n",
    "\n",
    "    # get token traker\n",
    "    try:\n",
    "        contract_dict[\"c_token_traker\"] = driver.find_element_by_xpath('//*[@id=\"ContentPlaceHolder1_tr_tokeninfo\"]/div/div[2]/a').text\n",
    "    except:\n",
    "        contract_dict[\"c_token_traker\"] = \"NaN\"\n",
    "\n",
    "    # get compiler\n",
    "    try:\n",
    "        contract_dict[\"c_compiler\"] = driver.find_element_by_xpath('//*[@id=\"ContentPlaceHolder1_contractCodeDiv\"]/div[2]/div[1]/div[2]/div[2]/span').text\n",
    "    except:\n",
    "        contract_dict[\"c_compiler\"] = \"NaN\"\n",
    "\n",
    "    # get sc verified\n",
    "    try:\n",
    "        c_verified = driver.find_element_by_xpath('//*[@id=\"ContentPlaceHolder1_contractCodeDiv\"]/div[1]/div/h3/strong/span').text\n",
    "        if c_verified == '(Exact Match)':\n",
    "            contract_dict[\"c_verified\"] = \"1\"\n",
    "        else:\n",
    "            contract_dict[\"c_verified\"] = \"0\"\n",
    "    except:\n",
    "        contract_dict[\"c_verified\"] = \"NaN\"\n",
    "\n",
    "    # get contract creation\n",
    "        # navigate to creation transaction\n",
    "    try: \n",
    "        c_creation_link = driver.find_element_by_xpath('//*[@id=\"ContentPlaceHolder1_trContract\"]/div/div[2]/span/a').get_attribute('href')\n",
    "        driver.get(c_creation_link)\n",
    "\n",
    "            # get creation string\n",
    "        contract_dict[\"c_creation\"] = driver.find_element_by_xpath('//*[@id=\"ContentPlaceHolder1_maintable\"]/div[3]/div[2]').text\n",
    "    except:\n",
    "        contract_dict[\"c_creation\"] = \"NaN\"\n",
    "\n",
    "\n",
    "    # get source code from api \n",
    "    try: \n",
    "        ApiToken = \"\" # load API token from environment\n",
    "\n",
    "        url = 'https://api.etherscan.io/api?module=contract&action=getsourcecode&address='+contract_address+'&apikey='+ApiToken\n",
    "        r = requests.get(url)\n",
    "\n",
    "        contract_dict[\"c_source_code\"] = str(r.json())\n",
    "    except:\n",
    "        contract_dict[\"c_source_code\"] = \"NaN\"\n",
    "\n",
    "    return contract_dict\n"
   ]
  },
  {
   "cell_type": "code",
   "execution_count": 104,
   "metadata": {},
   "outputs": [],
   "source": []
  },
  {
   "cell_type": "code",
   "execution_count": null,
   "metadata": {},
   "outputs": [],
   "source": []
  },
  {
   "cell_type": "markdown",
   "metadata": {},
   "source": [
    "### 4.2 Get data from API"
   ]
  },
  {
   "cell_type": "code",
   "execution_count": null,
   "metadata": {
    "tags": []
   },
   "outputs": [],
   "source": [
    "import json\n",
    "import requests\n",
    "\n",
    "url = 'https://api.etherscan.io/api?module=contract&action=getsourcecode&address='+contract_address+'&apikey='+ApiToken\n",
    "\n",
    "r = requests.get(url)\n",
    "source_code = r.json()\n",
    "print(source_code)"
   ]
  },
  {
   "cell_type": "markdown",
   "metadata": {},
   "source": []
  },
  {
   "cell_type": "markdown",
   "metadata": {},
   "source": []
  },
  {
   "cell_type": "markdown",
   "metadata": {},
   "source": [
    "## Insert into the Database"
   ]
  },
  {
   "cell_type": "code",
   "execution_count": 108,
   "metadata": {},
   "outputs": [],
   "source": [
    "insert_data = list(res.values())"
   ]
  },
  {
   "cell_type": "code",
   "execution_count": null,
   "metadata": {},
   "outputs": [],
   "source": []
  },
  {
   "cell_type": "code",
   "execution_count": 111,
   "metadata": {},
   "outputs": [],
   "source": [
    "import psycopg2\n",
    "\n",
    "# conncet to db\n",
    "connect = \"host=localhost dbname=ethereum_data user=postgres password=\"\n",
    "password = \"insert password\"\n",
    "\n",
    "conn = psycopg2.connect(connect+password)\n",
    "cur = conn.cursor()"
   ]
  },
  {
   "cell_type": "code",
   "execution_count": 112,
   "metadata": {},
   "outputs": [],
   "source": [
    "# insert query\n",
    "contract_data_insert = (\"\"\"INSERT INTO contract_data (\n",
    "                            c_address,\n",
    "                            c_name, \n",
    "                            c_creator,\n",
    "                            c_token_traker,\n",
    "                            c_compiler,\n",
    "                            c_verified,\n",
    "                            c_creation,\n",
    "                            c_source_code) \\\n",
    "                            VALUES (%s, %s, %s, %s, %s, %s, %s, %s)\n",
    "                            ON CONFLICT (c_address) DO NOTHING\n",
    "\"\"\")"
   ]
  },
  {
   "cell_type": "code",
   "execution_count": 114,
   "metadata": {},
   "outputs": [],
   "source": [
    "cur.execute(contract_data_insert, list(res.values()))"
   ]
  },
  {
   "cell_type": "code",
   "execution_count": 115,
   "metadata": {},
   "outputs": [],
   "source": [
    "conn.commit()"
   ]
  },
  {
   "cell_type": "code",
   "execution_count": 117,
   "metadata": {},
   "outputs": [],
   "source": [
    "conn.close()"
   ]
  },
  {
   "cell_type": "code",
   "execution_count": null,
   "metadata": {
    "tags": []
   },
   "outputs": [],
   "source": [
    "cur.execute(\"\"\"SELECT * FROM contract_data\"\"\")\n",
    "#cur.execute(song_select, (row.song, row.artist, row.length))\n",
    "sql_results = cur.fetchall()\n",
    "for result in sql_results:\n",
    "    print(result)"
   ]
  }
 ],
 "metadata": {
  "interpreter": {
   "hash": "ca383f15313c127efa363a25cfbc6d3febc8c660cc0b5c6f914ed6ddf330c2ac"
  },
  "kernelspec": {
   "display_name": "Python 3.7.3 64-bit ('base': conda)",
   "language": "python",
   "name": "python3"
  },
  "language_info": {
   "codemirror_mode": {
    "name": "ipython",
    "version": 3
   },
   "file_extension": ".py",
   "mimetype": "text/x-python",
   "name": "python",
   "nbconvert_exporter": "python",
   "pygments_lexer": "ipython3",
   "version": "3.8.8"
  },
  "orig_nbformat": 2
 },
 "nbformat": 4,
 "nbformat_minor": 2
}
