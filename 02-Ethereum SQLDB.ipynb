{
 "cells": [
  {
   "cell_type": "markdown",
   "metadata": {},
   "source": [
    "# Ethereum SQL DB - Analysis and Export"
   ]
  },
  {
   "cell_type": "markdown",
   "metadata": {},
   "source": [
    "The purpose of this file is to get an overview of the data currently stored in the data base and to make data exports.\n",
    "The data stored in the database come from all scrapers starting with 01"
   ]
  },
  {
   "cell_type": "markdown",
   "metadata": {},
   "source": [
    "Table of content:\n",
    "<br> 1. Connect to the data base\n",
    "<br> 2. Analysis\n",
    "<br> 3. Data exports"
   ]
  },
  {
   "cell_type": "markdown",
   "metadata": {},
   "source": []
  },
  {
   "cell_type": "markdown",
   "metadata": {},
   "source": [
    "## 1. Connect to the data base"
   ]
  },
  {
   "cell_type": "code",
   "execution_count": 3,
   "metadata": {},
   "outputs": [],
   "source": [
    "# import libraries\n",
    "import psycopg2\n",
    "import ast\n",
    "\n",
    "\n",
    "host = \"localhost\"\n",
    "dbname = \"postgres\"\n",
    "user = \"postgres\"\n",
    "password = \"\" # load password from environment\n",
    "\n",
    "# function to connect to db\n",
    "def connect_database(host, dbname, user, password):\n",
    "\n",
    "    \"\"\"\n",
    "    Connects to the existing ethereum_data database, this DB is created in SQL commandline and can be viewd under pg admin\n",
    "    Arguments:\n",
    "        - host (String): location of db; localhost or IP address\n",
    "        - dbname (String): has to be created in pg admin\n",
    "        - user (String): default is postgres -> or create new user in pg admin\n",
    "        - password (String): password of user\n",
    "\n",
    "    Returns two objects a cursor and a connection to the db \n",
    "\n",
    "    \"\"\"\n",
    "    conn = psycopg2.connect(\"host=\"+host+\" dbname=\"+dbname+\" user=\"+user+\" password=\"+password)\n",
    "    conn.set_session(autocommit=True)\n",
    "    cur = conn.cursor()\n",
    "\n",
    "    print(\"has successfully connceted to db\")\n",
    "    \n",
    "\n",
    "    return cur, conn\n",
    "\n",
    "\n",
    "\n",
    "def disconnect_database(conn):\n",
    "\n",
    "    \"\"\"\n",
    "    this function disconnect from the database\"\"\"\n",
    "\n",
    "    # close connections to the database\n",
    "    conn.close()\n",
    "\n",
    "    print(\"has successfully disconnceted from db\")\n",
    "\n",
    "\n"
   ]
  },
  {
   "cell_type": "code",
   "execution_count": 110,
   "metadata": {
    "tags": []
   },
   "outputs": [
    {
     "name": "stdout",
     "output_type": "stream",
     "text": [
      "has successfully connceted to db\n"
     ]
    }
   ],
   "source": [
    "cur, conn = connect_database(host, dbname, user, password)"
   ]
  },
  {
   "cell_type": "code",
   "execution_count": null,
   "metadata": {},
   "outputs": [],
   "source": []
  },
  {
   "cell_type": "markdown",
   "metadata": {},
   "source": [
    "## 2. Analysis "
   ]
  },
  {
   "cell_type": "code",
   "execution_count": 4,
   "metadata": {},
   "outputs": [],
   "source": [
    "# send queries to DB\n",
    "def call_query(query):\n",
    "\n",
    "    import psycopg2\n",
    "\n",
    "    \"\"\"\n",
    "    This function can be used to send queries to the db.\n",
    "    It automatically connects to the db, sends the query, and returns the result\n",
    "\n",
    "    Argument:\n",
    "    query (string): SQL command with 3x quotes\n",
    "\n",
    "    Returns the result from the db as a list with fetchall()\n",
    "    \"\"\"\n",
    "\n",
    "    # connects to the db\n",
    "    cur, conn = connect_database(host, dbname, user, password)\n",
    "\n",
    "    # sends query to db\n",
    "    cur.execute(query)\n",
    "    \n",
    "    # stores results\n",
    "    results = cur.fetchall()\n",
    "    print(\"has successfully received results\")\n",
    "\n",
    "    # closes connection to the db\n",
    "    disconnect_database(conn)\n",
    "\n",
    "    # returns results\n",
    "    return results"
   ]
  },
  {
   "cell_type": "code",
   "execution_count": null,
   "metadata": {},
   "outputs": [],
   "source": []
  },
  {
   "cell_type": "code",
   "execution_count": 22,
   "metadata": {},
   "outputs": [],
   "source": [
    "# write your query here\n",
    "#query = \"\"\"SELECT d_name, d_contract_list FROM dapp_data \"\"\"\n",
    "query = \"\"\"SELECT * FROM contract_data\"\"\""
   ]
  },
  {
   "cell_type": "code",
   "execution_count": 23,
   "metadata": {
    "tags": []
   },
   "outputs": [
    {
     "name": "stdout",
     "output_type": "stream",
     "text": [
      "has successfully connceted to db\n",
      "has successfully received results\n",
      "has successfully disconnceted from db\n"
     ]
    }
   ],
   "source": [
    "res = call_query(query)"
   ]
  },
  {
   "cell_type": "code",
   "execution_count": 25,
   "metadata": {},
   "outputs": [
    {
     "data": {
      "text/plain": [
       "[]"
      ]
     },
     "execution_count": 25,
     "metadata": {},
     "output_type": "execute_result"
    }
   ],
   "source": [
    "res"
   ]
  },
  {
   "cell_type": "markdown",
   "metadata": {},
   "source": []
  },
  {
   "cell_type": "markdown",
   "metadata": {},
   "source": [
    "## 3. Data exports"
   ]
  },
  {
   "cell_type": "markdown",
   "metadata": {},
   "source": [
    "### Export dapp_data table\n",
    "Exports the whole dapp_data table and dumps it into one csv file"
   ]
  },
  {
   "cell_type": "code",
   "execution_count": 11,
   "metadata": {
    "tags": []
   },
   "outputs": [
    {
     "name": "stdout",
     "output_type": "stream",
     "text": [
      "has successfully connceted to db\n",
      "has successfully received results\n",
      "has successfully disconnceted from db\n",
      "file has been saved\n"
     ]
    }
   ],
   "source": [
    "import csv\n",
    "\n",
    "data = call_query(\"\"\"SELECT * FROM dapp_data\"\"\")\n",
    "\n",
    "with open('dump_dapps_data.csv','w', encoding='utf-8',newline='') as out:\n",
    "    csv_out=csv.writer(out)\n",
    "    csv_out.writerow(['d_name','d_teaser', \n",
    "                            'd_platform', \n",
    "                            'd_cat',\n",
    "                            'd_link',\n",
    "                            'd_descr',\n",
    "                            'd_status',\n",
    "                            'd_author',\n",
    "                            'd_license',\n",
    "                            'd_updated',\n",
    "                            'd_submitted',\n",
    "                            'd_website',\n",
    "                            'd_profile_str',\n",
    "                            'd_push',\n",
    "                            'd_pull',\n",
    "                            'd_users_d',\n",
    "                            'd_users_w',\n",
    "                            'd_users_m',\n",
    "                            'd_txn_1',\n",
    "                            'd_txn_7',\n",
    "                            'd_txn_30',\n",
    "                            'd_eth_1',\n",
    "                            'd_eth_7',\n",
    "                            'd_eth_30',\n",
    "                            'd_contract_list',\n",
    "                            'd_review_list',\n",
    "                            'd_views',\n",
    "                            'd_clicks',\n",
    "                            'd_ctr',\n",
    "                            'd_rel_dapp_list',\n",
    "                            'd_social_list',\n",
    "                            'd_reaction_pos',\n",
    "                            'd_reaction_neu',\n",
    "                            'd_reaction_neg',\n",
    "                            'd_tag_list',\n",
    "                            'd_metamask_recom',\n",
    "                            'd_ponzi_warning',\n",
    "                            'added'])\n",
    "    for row in data:\n",
    "        csv_out.writerow(row)\n",
    "\n",
    "print(\"file has been saved\")"
   ]
  },
  {
   "cell_type": "markdown",
   "metadata": {},
   "source": [
    "### Export contract_data table\n",
    "Exports the whole contract_data table and dumps it into one csv file"
   ]
  },
  {
   "cell_type": "code",
   "execution_count": 28,
   "metadata": {
    "tags": []
   },
   "outputs": [
    {
     "name": "stdout",
     "output_type": "stream",
     "text": [
      "has successfully connceted to db\n",
      "has successfully received results\n",
      "has successfully disconnceted from db\n",
      "file has been saved\n"
     ]
    }
   ],
   "source": [
    "import csv\n",
    "\n",
    "data = call_query(\"\"\"SELECT * FROM contract_data\"\"\")\n",
    "\n",
    "with open('dump_contract_data.csv','w', encoding='utf-8',newline='') as out:\n",
    "    csv_out=csv.writer(out)\n",
    "    csv_out.writerow(['c_address',\n",
    "                            'c_name', \n",
    "                            'c_creator',\n",
    "                            'c_token_traker',\n",
    "                            'c_compiler',\n",
    "                            'c_verified',\n",
    "                            'c_creation',\n",
    "                            'c_source_code'])\n",
    "    for row in data:\n",
    "        csv_out.writerow(row)\n",
    "\n",
    "print(\"file has been saved\")"
   ]
  },
  {
   "cell_type": "markdown",
   "metadata": {},
   "source": [
    "### Dapps and Contract export\n",
    "exports a csv file containing all dapp names with all their contracts in a seperate row"
   ]
  },
  {
   "cell_type": "code",
   "execution_count": 13,
   "metadata": {
    "tags": []
   },
   "outputs": [
    {
     "name": "stdout",
     "output_type": "stream",
     "text": [
      "has successfully connceted to db\n",
      "has successfully received results\n",
      "has successfully disconnceted from db\n",
      "file has been saved\n"
     ]
    }
   ],
   "source": [
    "# export dapps with contract list \n",
    "\n",
    "import csv\n",
    "\n",
    "data = call_query(\"\"\"SELECT d_name, c_address FROM dapp_contract_link \"\"\")\n",
    "\n",
    "with open('dapps_contract_link_test.csv','w', encoding='utf-8',newline='') as out:\n",
    "    csv_out=csv.writer(out)\n",
    "    csv_out.writerow(['d_name','c_address'])\n",
    "    for row in data:\n",
    "        csv_out.writerow(row)\n",
    "\n",
    "print(\"file has been saved\")"
   ]
  },
  {
   "cell_type": "markdown",
   "metadata": {},
   "source": [
    "### All dApps contract and high level info export\n",
    "this routines selects all dapps (including some high level info s.a. category) and joins these dapps with the contract link table and returns all contracts associated these dApps"
   ]
  },
  {
   "cell_type": "code",
   "execution_count": 15,
   "metadata": {},
   "outputs": [],
   "source": [
    "query = \"\"\"\n",
    "        WITH dapps AS (\n",
    "            SELECT \n",
    "                d.d_name, \n",
    "                d.d_submitted, \n",
    "                d.d_cat, \n",
    "                d.d_status, \n",
    "                d.d_tag_list, \n",
    "                d.d_metamask_recom\n",
    "            FROM dapp_data d\n",
    "            WHERE \n",
    "                  LOWER(d_status) LIKE '%live%' OR  \n",
    "                  LOWER(d_status) LIKE '%abandoned%' OR\n",
    "                  LOWER(d_status) LIKE '%beta%'\n",
    "                        ) \n",
    "            SELECT \n",
    "                dapps.d_name, \n",
    "                dapps.d_cat, \n",
    "                dapps.d_status, \n",
    "                dapps.d_tag_list,  \n",
    "                dapp_contract_link.c_address\n",
    "            FROM dapps \n",
    "            JOIN dapp_contract_link \n",
    "            ON dapps.d_name = dapp_contract_link.d_name\n",
    "        \"\"\""
   ]
  },
  {
   "cell_type": "code",
   "execution_count": 19,
   "metadata": {},
   "outputs": [
    {
     "name": "stdout",
     "output_type": "stream",
     "text": [
      "has successfully connceted to db\n",
      "has successfully received results\n",
      "has successfully disconnceted from db\n",
      "file has been saved\n"
     ]
    }
   ],
   "source": [
    "# export dapps with contract list \n",
    "\n",
    "import csv\n",
    "\n",
    "data = call_query(query)\n",
    "\n",
    "with open('dapps_contract_link.csv','w', encoding='utf-8',newline='') as out:\n",
    "    csv_out=csv.writer(out, delimiter=\";\")\n",
    "    csv_out.writerow(['d_name','d_cat','d_status' ,'d_tag_list', 'c_address'])\n",
    "    for row in data:\n",
    "        csv_out.writerow(row)\n",
    "\n",
    "print(\"file has been saved\")"
   ]
  },
  {
   "cell_type": "markdown",
   "metadata": {},
   "source": []
  },
  {
   "cell_type": "markdown",
   "metadata": {},
   "source": []
  },
  {
   "cell_type": "markdown",
   "metadata": {},
   "source": [
    "### Defi dApps Contract Export\n",
    "this routines filters all dapps by looking for defi dapps, joins these dapps with the contract link table and returns alls contracts associated with defi dapps"
   ]
  },
  {
   "cell_type": "code",
   "execution_count": 133,
   "metadata": {},
   "outputs": [],
   "source": [
    "# define sql query\n",
    "    # problem: false positives and false negatives due to matching approach. Manual matching is required\n",
    "\n",
    "query = \"\"\"WITH defi_dapps AS (\n",
    "    SELECT d_name, d_submitted \n",
    "    FROM dapp_data\n",
    "    WHERE  LOWER(d_tag_list) LIKE '%swap%' OR\n",
    "            LOWER(d_tag_list) LIKE '%dex%' OR \n",
    "            LOWER(d_tag_list) LIKE '%liquid%' OR \n",
    "            LOWER(d_tag_list) LIKE '%defi%' OR \n",
    "            LOWER(d_tag_list) LIKE '%liquidity%' OR \n",
    "            LOWER(d_tag_list) LIKE '%staking%' OR \n",
    "            LOWER(d_tag_list) LIKE '%swapping%' OR \n",
    "            LOWER(d_tag_list) LIKE '%lending%' OR \n",
    "            LOWER(d_tag_list) LIKE '%loans%' OR\n",
    "            LOWER(d_tag_list) LIKE '%trading%'\n",
    "            ) \n",
    "\n",
    "    SELECT defi_dapps.d_name, defi_dapps.d_submitted, dapp_contract_link.c_address\n",
    "    FROM defi_dapps\n",
    "    JOIN dapp_contract_link\n",
    "    ON defi_dapps.d_name = dapp_contract_link.d_name\"\"\""
   ]
  },
  {
   "cell_type": "code",
   "execution_count": 57,
   "metadata": {},
   "outputs": [
    {
     "name": "stdout",
     "output_type": "stream",
     "text": [
      "has successfully connceted to db\n",
      "has successfully received results\n",
      "has successfully disconnceted from db\n",
      "file has been saved\n"
     ]
    }
   ],
   "source": [
    "# export dapps with contract list \n",
    "\n",
    "import csv\n",
    "\n",
    "data = call_query(query)\n",
    "\n",
    "with open('defi_dapps_contract_link.csv','w', encoding='utf-8',newline='',delimiter=\";\") as out:\n",
    "    csv_out=csv.writer(out)\n",
    "    csv_out.writerow(['d_name','submitted' ,'c_address'])\n",
    "    for row in data:\n",
    "        csv_out.writerow(row)\n",
    "\n",
    "print(\"file has been saved\")"
   ]
  }
 ],
 "metadata": {
  "interpreter": {
   "hash": "ca383f15313c127efa363a25cfbc6d3febc8c660cc0b5c6f914ed6ddf330c2ac"
  },
  "kernelspec": {
   "display_name": "Python 3.8.8 64-bit ('base': conda)",
   "name": "python3"
  },
  "language_info": {
   "codemirror_mode": {
    "name": "ipython",
    "version": 3
   },
   "file_extension": ".py",
   "mimetype": "text/x-python",
   "name": "python",
   "nbconvert_exporter": "python",
   "pygments_lexer": "ipython3",
   "version": "3.8.8"
  },
  "orig_nbformat": 2
 },
 "nbformat": 4,
 "nbformat_minor": 2
}
